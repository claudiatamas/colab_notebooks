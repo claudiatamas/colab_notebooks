{
  "nbformat": 4,
  "nbformat_minor": 0,
  "metadata": {
    "colab": {
      "provenance": [],
      "authorship_tag": "ABX9TyMVe+V+YBGoEDr9bkqnMg6S",
      "include_colab_link": true
    },
    "kernelspec": {
      "name": "python3",
      "display_name": "Python 3"
    },
    "language_info": {
      "name": "python"
    }
  },
  "cells": [
    {
      "cell_type": "markdown",
      "metadata": {
        "id": "view-in-github",
        "colab_type": "text"
      },
      "source": [
        "<a href=\"https://colab.research.google.com/github/claudiatamas/colab_notebooks/blob/main/naive_bayes.ipynb\" target=\"_parent\"><img src=\"https://colab.research.google.com/assets/colab-badge.svg\" alt=\"Open In Colab\"/></a>"
      ]
    },
    {
      "cell_type": "markdown",
      "source": [
        "# ***Naive Bayes***\n",
        "\n",
        "\n",
        "---\n",
        "\n"
      ],
      "metadata": {
        "id": "hOFa2bEANaQV"
      }
    },
    {
      "cell_type": "markdown",
      "source": [
        "### **Teoria algoritmului:**\n",
        "Naive Bayes este un algoritm simplu și eficient de clasificare bazat pe aplicarea Teoremei lui Bayes cu presupunerea de independență între predictorii (caracteristicile). Este numit \"naiv\" pentru că presupune că existența unei anumite caracteristici într-o clasă este independentă de existența oricărei alte caracteristici, chiar dacă aceste caracteristici pot depinde una de alta în realitate. Naive Bayes este rapid și ușor de implementat, ceea ce îl face bun pentru seturi de date mari. Este adesea folosit pentru clasificarea textului, cum ar fi detectarea spam-ului în emailuri sau analiza sentimentelor în recenziile de produse.\n",
        "### **Descrierea problemei:**\n",
        "Problema practică este predicția tipului de vreme pe baza datelor meteorologice istorice precum precipitații, temperaturi maxime și minime și viteză a vântului."
      ],
      "metadata": {
        "id": "ZFilkquWNf_d"
      }
    },
    {
      "cell_type": "markdown",
      "source": [
        "### **Biblioteci utilizate:**\n",
        "\n",
        "* **pandas** - Este o bibliotecă software scrisă pentru limbajul de programare Python pentru manipularea și analiza datelor.Oferă structuri de date rapide, flexibile și expresive concepute pentru a face munca cu \"date relaționale\" sau \"date etichetate\" atât ușoară cât și intuitivă.Permite diverse operații de manipulare a datelor: filtrarea datelor, curățarea, explorarea și analiza acestora.\n",
        "\n",
        "* **sklearn** - Este una dintre cele mai populare biblioteci de învățare automată pentru Python. Oferă o selecție de instrumente eficiente pentru modelarea statistică a datelor, inclusiv clasificare, regresie, clustering și reducerea dimensionalității.Conține o mulțime de algoritmi de preprocesare pentru date, algoritmi de învățare automată și metode de validare a modelului.\n",
        "\n",
        "* **matplotlib** - Este o colecție de funcții de stil comandă care fac ca matplotlib să funcționeze asemănător cu MATLAB.Fiecare funcție pyplot face câteva modificări la o figură: de exemplu, creează o figură, creează o zonă de desenare într-o figură, plotează câteva linii într-o zonă de desenare, decorează plotul cu etichete etc. Este utilizată în principal pentru vizualizarea datelor sub forma de diverse grafice (linie, bar, scatter, etc.).\n",
        "\n",
        "* **seaborn** - Este o bibliotecă de vizualizare a datelor în Python care se bazează pe matplotlib. Este proiectată pentru a crea grafice statistice informative într-un mod simplu și cu cod redus."
      ],
      "metadata": {
        "id": "8AaU4dQqOJU-"
      }
    },
    {
      "cell_type": "code",
      "source": [
        "import pandas as pd\n",
        "from sklearn.model_selection import train_test_split\n",
        "from sklearn.naive_bayes import GaussianNB\n",
        "from sklearn.metrics import classification_report, accuracy_score\n",
        "from sklearn.preprocessing import LabelEncoder\n",
        "import matplotlib.pyplot as plt\n",
        "import seaborn as sns"
      ],
      "metadata": {
        "id": "rHocy_YCPRwu"
      },
      "execution_count": null,
      "outputs": []
    },
    {
      "cell_type": "markdown",
      "source": [
        "### **Set de date:**\n",
        "\n",
        "Setul de date **seattle-weather.csv** include informații despre diferiți indivizi, cu variabile precum:\n",
        "* **date** - Reprezintă data când au fost înregistrate celelalte măsurători.\n",
        "* **precipitation** - Aceasta măsoară cantitatea de precipitații într-o anumită zi, de obicei exprimată în milimetri sau inci.\n",
        "* **temp_max** - Indică temperatura maximă atinsă într-o zi.\n",
        "* **temp_min** - Aceasta reflectă temperatura minimă înregistrată într-o zi.\n",
        "* **wind** - Măsoară viteza vântului într-o zi, de obicei exprimată în kilometri pe oră sau mile pe oră.  \n",
        "* **weather** -  Este variabila dependentă sau de răspuns în acest set de date. Ea clasifică condițiile meteo observate într-o zi, cum ar fi \"ploaie\", \"zăpadă\", \"soare\", \"burniță\". Aceasta este variabila pe care o vom încerca să o prezicem folosind celelalte măsurători din setul de date.\n",
        "\n",
        "\n",
        "\n",
        "\n",
        "\n",
        "\n",
        "\n",
        "\n"
      ],
      "metadata": {
        "id": "5rQ26M3QPqa6"
      }
    },
    {
      "cell_type": "markdown",
      "source": [
        "### **Algoritm:**\n",
        "\n",
        "\n",
        "1.   Importarea setului de date - În această etapă, se încarcă setul de date dintr-un fișier CSV într-un DataFrame pandas pentru a putea fi prelucrat. .\n",
        "\n",
        "\n"
      ],
      "metadata": {
        "id": "Q6gjDXo3P3Ep"
      }
    },
    {
      "cell_type": "code",
      "source": [
        "from google.colab import files\n",
        "\n",
        "\n",
        "uploaded = files.upload()"
      ],
      "metadata": {
        "colab": {
          "base_uri": "https://localhost:8080/",
          "height": 73
        },
        "id": "x730t41UEZXD",
        "outputId": "4869ec18-d940-4c30-c58c-b37f00a07a59"
      },
      "execution_count": null,
      "outputs": [
        {
          "output_type": "display_data",
          "data": {
            "text/plain": [
              "<IPython.core.display.HTML object>"
            ],
            "text/html": [
              "\n",
              "     <input type=\"file\" id=\"files-531841ea-c5f4-4bb3-9807-2032e930de49\" name=\"files[]\" multiple disabled\n",
              "        style=\"border:none\" />\n",
              "     <output id=\"result-531841ea-c5f4-4bb3-9807-2032e930de49\">\n",
              "      Upload widget is only available when the cell has been executed in the\n",
              "      current browser session. Please rerun this cell to enable.\n",
              "      </output>\n",
              "      <script>// Copyright 2017 Google LLC\n",
              "//\n",
              "// Licensed under the Apache License, Version 2.0 (the \"License\");\n",
              "// you may not use this file except in compliance with the License.\n",
              "// You may obtain a copy of the License at\n",
              "//\n",
              "//      http://www.apache.org/licenses/LICENSE-2.0\n",
              "//\n",
              "// Unless required by applicable law or agreed to in writing, software\n",
              "// distributed under the License is distributed on an \"AS IS\" BASIS,\n",
              "// WITHOUT WARRANTIES OR CONDITIONS OF ANY KIND, either express or implied.\n",
              "// See the License for the specific language governing permissions and\n",
              "// limitations under the License.\n",
              "\n",
              "/**\n",
              " * @fileoverview Helpers for google.colab Python module.\n",
              " */\n",
              "(function(scope) {\n",
              "function span(text, styleAttributes = {}) {\n",
              "  const element = document.createElement('span');\n",
              "  element.textContent = text;\n",
              "  for (const key of Object.keys(styleAttributes)) {\n",
              "    element.style[key] = styleAttributes[key];\n",
              "  }\n",
              "  return element;\n",
              "}\n",
              "\n",
              "// Max number of bytes which will be uploaded at a time.\n",
              "const MAX_PAYLOAD_SIZE = 100 * 1024;\n",
              "\n",
              "function _uploadFiles(inputId, outputId) {\n",
              "  const steps = uploadFilesStep(inputId, outputId);\n",
              "  const outputElement = document.getElementById(outputId);\n",
              "  // Cache steps on the outputElement to make it available for the next call\n",
              "  // to uploadFilesContinue from Python.\n",
              "  outputElement.steps = steps;\n",
              "\n",
              "  return _uploadFilesContinue(outputId);\n",
              "}\n",
              "\n",
              "// This is roughly an async generator (not supported in the browser yet),\n",
              "// where there are multiple asynchronous steps and the Python side is going\n",
              "// to poll for completion of each step.\n",
              "// This uses a Promise to block the python side on completion of each step,\n",
              "// then passes the result of the previous step as the input to the next step.\n",
              "function _uploadFilesContinue(outputId) {\n",
              "  const outputElement = document.getElementById(outputId);\n",
              "  const steps = outputElement.steps;\n",
              "\n",
              "  const next = steps.next(outputElement.lastPromiseValue);\n",
              "  return Promise.resolve(next.value.promise).then((value) => {\n",
              "    // Cache the last promise value to make it available to the next\n",
              "    // step of the generator.\n",
              "    outputElement.lastPromiseValue = value;\n",
              "    return next.value.response;\n",
              "  });\n",
              "}\n",
              "\n",
              "/**\n",
              " * Generator function which is called between each async step of the upload\n",
              " * process.\n",
              " * @param {string} inputId Element ID of the input file picker element.\n",
              " * @param {string} outputId Element ID of the output display.\n",
              " * @return {!Iterable<!Object>} Iterable of next steps.\n",
              " */\n",
              "function* uploadFilesStep(inputId, outputId) {\n",
              "  const inputElement = document.getElementById(inputId);\n",
              "  inputElement.disabled = false;\n",
              "\n",
              "  const outputElement = document.getElementById(outputId);\n",
              "  outputElement.innerHTML = '';\n",
              "\n",
              "  const pickedPromise = new Promise((resolve) => {\n",
              "    inputElement.addEventListener('change', (e) => {\n",
              "      resolve(e.target.files);\n",
              "    });\n",
              "  });\n",
              "\n",
              "  const cancel = document.createElement('button');\n",
              "  inputElement.parentElement.appendChild(cancel);\n",
              "  cancel.textContent = 'Cancel upload';\n",
              "  const cancelPromise = new Promise((resolve) => {\n",
              "    cancel.onclick = () => {\n",
              "      resolve(null);\n",
              "    };\n",
              "  });\n",
              "\n",
              "  // Wait for the user to pick the files.\n",
              "  const files = yield {\n",
              "    promise: Promise.race([pickedPromise, cancelPromise]),\n",
              "    response: {\n",
              "      action: 'starting',\n",
              "    }\n",
              "  };\n",
              "\n",
              "  cancel.remove();\n",
              "\n",
              "  // Disable the input element since further picks are not allowed.\n",
              "  inputElement.disabled = true;\n",
              "\n",
              "  if (!files) {\n",
              "    return {\n",
              "      response: {\n",
              "        action: 'complete',\n",
              "      }\n",
              "    };\n",
              "  }\n",
              "\n",
              "  for (const file of files) {\n",
              "    const li = document.createElement('li');\n",
              "    li.append(span(file.name, {fontWeight: 'bold'}));\n",
              "    li.append(span(\n",
              "        `(${file.type || 'n/a'}) - ${file.size} bytes, ` +\n",
              "        `last modified: ${\n",
              "            file.lastModifiedDate ? file.lastModifiedDate.toLocaleDateString() :\n",
              "                                    'n/a'} - `));\n",
              "    const percent = span('0% done');\n",
              "    li.appendChild(percent);\n",
              "\n",
              "    outputElement.appendChild(li);\n",
              "\n",
              "    const fileDataPromise = new Promise((resolve) => {\n",
              "      const reader = new FileReader();\n",
              "      reader.onload = (e) => {\n",
              "        resolve(e.target.result);\n",
              "      };\n",
              "      reader.readAsArrayBuffer(file);\n",
              "    });\n",
              "    // Wait for the data to be ready.\n",
              "    let fileData = yield {\n",
              "      promise: fileDataPromise,\n",
              "      response: {\n",
              "        action: 'continue',\n",
              "      }\n",
              "    };\n",
              "\n",
              "    // Use a chunked sending to avoid message size limits. See b/62115660.\n",
              "    let position = 0;\n",
              "    do {\n",
              "      const length = Math.min(fileData.byteLength - position, MAX_PAYLOAD_SIZE);\n",
              "      const chunk = new Uint8Array(fileData, position, length);\n",
              "      position += length;\n",
              "\n",
              "      const base64 = btoa(String.fromCharCode.apply(null, chunk));\n",
              "      yield {\n",
              "        response: {\n",
              "          action: 'append',\n",
              "          file: file.name,\n",
              "          data: base64,\n",
              "        },\n",
              "      };\n",
              "\n",
              "      let percentDone = fileData.byteLength === 0 ?\n",
              "          100 :\n",
              "          Math.round((position / fileData.byteLength) * 100);\n",
              "      percent.textContent = `${percentDone}% done`;\n",
              "\n",
              "    } while (position < fileData.byteLength);\n",
              "  }\n",
              "\n",
              "  // All done.\n",
              "  yield {\n",
              "    response: {\n",
              "      action: 'complete',\n",
              "    }\n",
              "  };\n",
              "}\n",
              "\n",
              "scope.google = scope.google || {};\n",
              "scope.google.colab = scope.google.colab || {};\n",
              "scope.google.colab._files = {\n",
              "  _uploadFiles,\n",
              "  _uploadFilesContinue,\n",
              "};\n",
              "})(self);\n",
              "</script> "
            ]
          },
          "metadata": {}
        },
        {
          "output_type": "stream",
          "name": "stdout",
          "text": [
            "Saving seattle-weather.csv to seattle-weather.csv\n"
          ]
        }
      ]
    },
    {
      "cell_type": "code",
      "source": [
        "import pandas as pd\n",
        "import io\n",
        "\n",
        "df = pd.read_csv(io.BytesIO(uploaded['seattle-weather.csv']))\n",
        "print(df)"
      ],
      "metadata": {
        "id": "vrOWZj0kklbk",
        "colab": {
          "base_uri": "https://localhost:8080/"
        },
        "outputId": "e8b42e40-a2cf-4900-e977-adb75fb5e00e"
      },
      "execution_count": null,
      "outputs": [
        {
          "output_type": "stream",
          "name": "stdout",
          "text": [
            "            date  precipitation  temp_max  temp_min  wind  weather\n",
            "0       1/1/2012            0.0      12.8       5.0   4.7  drizzle\n",
            "1       1/2/2012           10.9      10.6       2.8   4.5     rain\n",
            "2       1/3/2012            0.8      11.7       7.2   2.3     rain\n",
            "3       1/4/2012           20.3      12.2       5.6   4.7     rain\n",
            "4       1/5/2012            1.3       8.9       2.8   6.1     rain\n",
            "...          ...            ...       ...       ...   ...      ...\n",
            "1456  12/27/2015            8.6       4.4       1.7   2.9     rain\n",
            "1457  12/28/2015            1.5       5.0       1.7   1.3     rain\n",
            "1458  12/29/2015            0.0       7.2       0.6   2.6      fog\n",
            "1459  12/30/2015            0.0       5.6      -1.0   3.4      sun\n",
            "1460  12/31/2015            0.0       5.6      -2.1   3.5      sun\n",
            "\n",
            "[1461 rows x 6 columns]\n"
          ]
        }
      ]
    },
    {
      "cell_type": "markdown",
      "source": [
        "2. Prelucrarea coloanelor care conțin date - Aici, coloana '*date*' este convertită într-un format *datetime*, iar apoi sunt extrase anul și ziua din an. Colona '*date*' este apoi eliminată deoarece nu mai este necesară în forma ei originală."
      ],
      "metadata": {
        "id": "H_-zjGkqkzH6"
      }
    },
    {
      "cell_type": "code",
      "source": [
        "df['date'] = pd.to_datetime(df['date'])\n",
        "df['year'] = df['date'].dt.year\n",
        "df['day_of_year'] = df['date'].dt.dayofyear\n",
        "\n",
        "df = df.drop('date', axis=1)"
      ],
      "metadata": {
        "id": "yc1fNJIHk0rJ"
      },
      "execution_count": null,
      "outputs": []
    },
    {
      "cell_type": "markdown",
      "source": [
        "3. Codificarea etichetelor - Variabila *weather* este transformată din valori text în valori numerice pentru a putea fi procesate de modelul de învățare automată."
      ],
      "metadata": {
        "id": "TIkX5Hqik2aS"
      }
    },
    {
      "cell_type": "code",
      "source": [
        "label_encoder = LabelEncoder()\n",
        "df['weather'] = label_encoder.fit_transform(df['weather'])"
      ],
      "metadata": {
        "id": "HahcJ-xDk4vE"
      },
      "execution_count": null,
      "outputs": []
    },
    {
      "cell_type": "markdown",
      "source": [
        "4. Pregătirea seturilor de date pentru antrenare și testare - Aceste linii de cod separă caracteristicile (X) și variabila țintă (y), apoi împart datele în seturi de antrenare și testare"
      ],
      "metadata": {
        "id": "cf3yDBgVk6K_"
      }
    },
    {
      "cell_type": "code",
      "source": [
        "X = df[['year', 'day_of_year', 'precipitation', 'temp_max', 'temp_min', 'wind']]\n",
        "y = df['weather']\n",
        "\n",
        "X_train, X_test, y_train, y_test = train_test_split(X, y, test_size=0.2, random_state=42)"
      ],
      "metadata": {
        "id": "O1df0Dj-k7-R"
      },
      "execution_count": null,
      "outputs": []
    },
    {
      "cell_type": "markdown",
      "source": [
        "5. Antrenarea modelului - Se antrenează modelul Naive Bayes pe setul de antrenare."
      ],
      "metadata": {
        "id": "a45vYlcnlQPi"
      }
    },
    {
      "cell_type": "code",
      "source": [
        "model = GaussianNB()\n",
        "model.fit(X_train, y_train)"
      ],
      "metadata": {
        "id": "peCEpY2vlSgA"
      },
      "execution_count": null,
      "outputs": []
    },
    {
      "cell_type": "markdown",
      "source": [
        "6.  Predicțiile și evaluarea modelului -  Realizarea predicțiilor pe setul de test și calcularea acurateței și a raportului de clasificare."
      ],
      "metadata": {
        "id": "7_mm655i22o9"
      }
    },
    {
      "cell_type": "code",
      "source": [
        "predictions = model.predict(X_test)\n",
        "accuracy = accuracy_score(y_test, predictions)\n",
        "report = classification_report(y_test, predictions)\n",
        "\n",
        "print(f'Acuratețea Modelului: {accuracy}')\n",
        "print(f'Raportul de Clasificare:\\n{report}')"
      ],
      "metadata": {
        "id": "N5Gi-wGF28I8"
      },
      "execution_count": null,
      "outputs": []
    },
    {
      "cell_type": "markdown",
      "source": [
        "7. Vizualizarea rezultatelor - Se creează un grafic de dispersie pentru a vizualiza relația dintre temperatură și precipitații, cu predicțiile și valorile reale ale vremii. Această etapă finală oferă o interpretare vizuală a modului în care modelul a înțeles și a prezis diferite condiții meteorologice pe baza datelor de intrare."
      ],
      "metadata": {
        "id": "XEK9Dd0x3CQi"
      }
    },
    {
      "cell_type": "code",
      "source": [
        "predicted_weather = label_encoder.inverse_transform(predictions)\n",
        "\n",
        "test_results = pd.DataFrame(X_test, columns=['year', 'day_of_year', 'precipitation', 'temp_max', 'temp_min', 'wind'])\n",
        "test_results['true_weather'] = label_encoder.inverse_transform(y_test)\n",
        "test_results['predicted_weather'] = predicted_weather\n",
        "plt.figure(figsize=(10, 6))\n",
        "\n",
        "sns.scatterplot(data=test_results, x='temp_max', y='precipitation', hue='predicted_weather', style='true_weather')\n",
        "\n",
        "plt.title('Grafic de dispersie')\n",
        "plt.xlabel('Temperatura Maximă (°C)')\n",
        "plt.ylabel('Precipitații (mm)')\n",
        "plt.legend(title='Vremea Prezisă vs. Reală', bbox_to_anchor=(1.05, 1), loc='upper left')\n",
        "plt.tight_layout()\n",
        "plt.show()"
      ],
      "metadata": {
        "id": "oZdAxDfa3LnS"
      },
      "execution_count": null,
      "outputs": []
    },
    {
      "cell_type": "markdown",
      "source": [
        "### **Antrenare și testare:**\n",
        "Din totalul de date, 80% sunt folosite pentru antrenarea modelului și 20% pentru testare."
      ],
      "metadata": {
        "id": "fgqmQPxyicX7"
      }
    },
    {
      "cell_type": "markdown",
      "source": [
        "### **Analiză**"
      ],
      "metadata": {
        "id": "qJ2nDcVjjH-i"
      }
    },
    {
      "cell_type": "code",
      "source": [
        "import pandas as pd\n",
        "from sklearn.model_selection import train_test_split\n",
        "from sklearn.naive_bayes import GaussianNB\n",
        "from sklearn.metrics import classification_report, accuracy_score\n",
        "from sklearn.preprocessing import LabelEncoder\n",
        "import matplotlib.pyplot as plt\n",
        "import seaborn as sns\n",
        "\n",
        "\n",
        "df = pd.read_csv('seattle-weather.csv')\n",
        "\n",
        "df['date'] = pd.to_datetime(df['date'])\n",
        "df['year'] = df['date'].dt.year\n",
        "df['day_of_year'] = df['date'].dt.dayofyear\n",
        "\n",
        "df = df.drop('date', axis=1)\n",
        "\n",
        "\n",
        "label_encoder = LabelEncoder()\n",
        "df['weather'] = label_encoder.fit_transform(df['weather'])\n",
        "\n",
        "\n",
        "X = df[['year', 'day_of_year', 'precipitation', 'temp_max', 'temp_min', 'wind']]\n",
        "y = df['weather']\n",
        "\n",
        "\n",
        "X_train, X_test, y_train, y_test = train_test_split(X, y, test_size=0.2, random_state=42)\n",
        "\n",
        "\n",
        "model = GaussianNB()\n",
        "model.fit(X_train, y_train)\n",
        "\n",
        "\n",
        "predictions = model.predict(X_test)\n",
        "\n",
        "\n",
        "accuracy = accuracy_score(y_test, predictions)\n",
        "report = classification_report(y_test, predictions)\n",
        "\n",
        "print(f'Acuratețea Modelului: {accuracy}')\n",
        "print(f'Raportul de Clasificare:\\n{report}')\n",
        "\n",
        "print(label_encoder.classes_)\n",
        "\n",
        "predicted_weather = label_encoder.inverse_transform(predictions)\n",
        "\n",
        "\n",
        "test_results = pd.DataFrame(X_test, columns=['year', 'day_of_year', 'precipitation', 'temp_max', 'temp_min', 'wind'])\n",
        "test_results['true_weather'] = label_encoder.inverse_transform(y_test)\n",
        "test_results['predicted_weather'] = predicted_weather\n",
        "\n",
        "\n",
        "plt.figure(figsize=(10, 6))\n",
        "sns.scatterplot(data=test_results, x='temp_max', y='precipitation', hue='predicted_weather', style='true_weather')\n",
        "plt.title('Grafic de dispersie')\n",
        "plt.xlabel('Temperatura Maximă (°C)')\n",
        "plt.ylabel('Precipitații (mm)')\n",
        "plt.legend(title='Vremea Prezisă vs. Reală', bbox_to_anchor=(1.05, 1), loc='upper left')\n",
        "plt.tight_layout()\n",
        "plt.show()\n",
        "\n",
        "test_results_sample = test_results.sample(21)\n",
        "test_results_sample\n",
        "print(test_results_sample)"
      ],
      "metadata": {
        "id": "Ku-OM4ZgjLht",
        "colab": {
          "base_uri": "https://localhost:8080/",
          "height": 1000
        },
        "outputId": "6f256129-a4d7-4515-987f-dceafe2bebff"
      },
      "execution_count": null,
      "outputs": [
        {
          "output_type": "stream",
          "name": "stdout",
          "text": [
            "Acuratețea Modelului: 0.8361774744027304\n",
            "Raportul de Clasificare:\n",
            "              precision    recall  f1-score   support\n",
            "\n",
            "           0       0.50      0.22      0.31         9\n",
            "           1       0.67      0.08      0.14        25\n",
            "           2       0.98      0.89      0.93       120\n",
            "           3       0.55      0.75      0.63         8\n",
            "           4       0.77      0.98      0.86       131\n",
            "\n",
            "    accuracy                           0.84       293\n",
            "   macro avg       0.69      0.58      0.58       293\n",
            "weighted avg       0.83      0.84      0.81       293\n",
            "\n",
            "['drizzle' 'fog' 'rain' 'snow' 'sun']\n"
          ]
        },
        {
          "output_type": "display_data",
          "data": {
            "text/plain": [
              "<Figure size 1000x600 with 1 Axes>"
            ],
            "image/png": "[encoded data removed]"
          },
          "metadata": {}
        },
        {
          "output_type": "stream",
          "name": "stdout",
          "text": [
            "      year  day_of_year  precipitation  temp_max  temp_min  wind true_weather  \\\n",
            "620   2013          255            0.0      25.6      15.0   1.7          sun   \n",
            "1053  2014          323            0.0      11.1       2.2   1.9          sun   \n",
            "58    2012           59            3.6       6.7      -0.6   4.2         snow   \n",
            "233   2012          234            0.0      23.3      13.3   3.0         rain   \n",
            "416   2013           51            1.5       7.8       1.1   2.1         rain   \n",
            "670   2013          305            1.3      17.8      11.7   1.4         rain   \n",
            "363   2012          364            1.5       5.0       3.3   1.7         rain   \n",
            "374   2013            9           38.4      10.0       1.7   5.1         rain   \n",
            "1001  2014          271            0.0      18.9      12.2   2.0          fog   \n",
            "99    2012          100            0.0      20.0       6.1   2.1          sun   \n",
            "707   2013          342            0.0       2.2      -6.6   2.2          sun   \n",
            "168   2012          169            0.0      18.9      11.7   6.4          sun   \n",
            "44    2012           45            2.5       6.7       1.1   3.1         rain   \n",
            "1216  2015          121            0.0      18.3       8.9   3.7          sun   \n",
            "836   2014          106           10.9      11.1       8.9   4.6         rain   \n",
            "898   2014          168            1.3      17.8      10.0   3.0         rain   \n",
            "413   2013           48            0.0       9.4       4.4   3.4         rain   \n",
            "196   2012          197            0.0      18.9      13.3   3.8         rain   \n",
            "984   2014          254            0.0      24.4      12.8   5.3          sun   \n",
            "350   2012          351           22.6       6.7       3.3   5.5         snow   \n",
            "599   2013          234            0.0      28.9      15.0   1.9          sun   \n",
            "\n",
            "     predicted_weather  \n",
            "620                sun  \n",
            "1053               sun  \n",
            "58                snow  \n",
            "233                sun  \n",
            "416               rain  \n",
            "670               rain  \n",
            "363               rain  \n",
            "374               rain  \n",
            "1001               sun  \n",
            "99                 sun  \n",
            "707            drizzle  \n",
            "168                sun  \n",
            "44                snow  \n",
            "1216               sun  \n",
            "836               rain  \n",
            "898               rain  \n",
            "413                sun  \n",
            "196                sun  \n",
            "984                sun  \n",
            "350               rain  \n",
            "599                sun  \n"
          ]
        }
      ]
    },
    {
      "cell_type": "markdown",
      "source": [
        "Graficul plasează temperatura maximă pe axa x și precipitațiile pe axa y. Acest lucru permite vizualizarea relației dintre temperatură și precipitații pentru diferite condiții meteo.\n",
        "\n",
        "Fiecare punct reprezintă o zi din setul de testare, cu coordonatele corespunzătoare valorilor sale de temperatură maximă și precipitații.\n",
        "\n",
        "Culorile punctelor indică vremea prezisă de model, în timp ce formele punctelor reprezintă condițiile meteo reale. Acest lucru facilitează comparația între predicțiile modelului și adevăratele etichete.\n",
        "\n",
        "Graficul arată că pentru zilele cu temperaturi maxime mai scăzute și precipitații mai mari, modelul tinde să prezică \"ploaie\" (evidențiată prin suprapunerea culorilor și formelor), în timp ce pentru zilele cu temperaturi maxime mai înalte și fără precipitații, modelul prezice \"soare\".\n",
        "\n",
        "Se observă o suprapunere între culori și forme, ceea ce indică cazurile în care modelul a făcut o predicție incorectă. De exemplu, punctele unde forma reală  nu corespunde cu culoarea prezisă arată unde a greșit modelul."
      ],
      "metadata": {
        "id": "Xqkka-qc66H5"
      }
    },
    {
      "cell_type": "markdown",
      "source": [
        "### **Concluzie**\n",
        "\n",
        "**Acuratețea Modelului**: Modelul a atins o acuratețe de aproximativ **83.62%**, ceea ce este destul de bun pentru un clasificator Naive Bayes și sugerează că modelul a învățat destul de bine relațiile dintre caracteristici și etichetele meteo.\n",
        "\n",
        "**Raportul de Clasificare:** Raportul de clasificare arată măsurile de precizie, recall și scor F1 pentru fiecare clasă (tip de vreme).\n",
        "\n",
        "\n",
        "*   Clasele 0 și 1 (*drizzle* și *fog*) au precizii și recall-uri semnificativ mai scăzute, ceea ce sugerează că modelul are dificultăți în a clasifica corect aceste condiții meteo.\n",
        "*   Clasele 2  și  4 (*rain* și *sun*) au cele mai bune scoruri, cu o precizie și un recall înalt, ceea ce înseamnă că modelul prezice aceste condiții meteo cu o mare acuratețe.\n"
      ],
      "metadata": {
        "id": "Iwl73OF0jPPP"
      }
    }
  ]
}