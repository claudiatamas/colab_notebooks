{
  "nbformat": 4,
  "nbformat_minor": 0,
  "metadata": {
    "colab": {
      "provenance": [],
      "authorship_tag": "ABX9TyMwy+7EQjOHCfZTG8uTbJSA",
      "include_colab_link": true
    },
    "kernelspec": {
      "name": "python3",
      "display_name": "Python 3"
    },
    "language_info": {
      "name": "python"
    }
  },
  "cells": [
    {
      "cell_type": "markdown",
      "metadata": {
        "id": "view-in-github",
        "colab_type": "text"
      },
      "source": [
        "<a href=\"https://colab.research.google.com/github/claudiatamas/colab_notebooks/blob/main/nearest_neighbour.ipynb\" target=\"_parent\"><img src=\"https://colab.research.google.com/assets/colab-badge.svg\" alt=\"Open In Colab\"/></a>"
      ]
    },
    {
      "cell_type": "markdown",
      "source": [
        "# ***Nearest Neighbour***\n",
        "\n",
        "---\n",
        "\n",
        "\n",
        "\n",
        "\n"
      ],
      "metadata": {
        "id": "HbXYP4-OqScQ"
      }
    },
    {
      "cell_type": "markdown",
      "source": [
        "### **Teoria algoritmului:**\n",
        " Algoritmul Nearest Neighbour (Cel mai Apropiat Vecin) este o tehnică de clasificare simplă și eficientă, folosită în învățarea automată. Acesta clasifică un nou punct de date prin identificarea celor mai apropiați vecini ai săi din setul de date de antrenament. Clasificarea se face pe baza majorității voturilor vecinilor săi - punctul de date este atribuit clasei cele mai frecvente în rândul vecinilor săi.\n",
        "\n",
        "### **Descrierea problemei:**\n",
        "Vom folosi algoritmul Nearest Neighbour pentru problema de clasificare a pacienților în două categorii: diabetici și non-diabetici.\n",
        "\n",
        "\n",
        "\n",
        "### **Biblioteci utilizate:**\n",
        "\n",
        "\n",
        "\n",
        "* **pandas** - Este o bibliotecă software scrisă pentru limbajul de programare Python pentru manipularea și analiza datelor.Oferă structuri de date rapide, flexibile și expresive concepute pentru a face munca cu \"date relaționale\" sau \"date etichetate\" atât ușoară cât și intuitivă.Permite diverse operații de manipulare a datelor: filtrarea datelor, curățarea, explorarea și analiza acestora.\n",
        "\n",
        "* **scikit-learn** - Este una dintre cele mai populare biblioteci de învățare automată pentru Python. Oferă o selecție de instrumente eficiente pentru modelarea statistică a datelor, inclusiv clasificare, regresie, clustering și reducerea dimensionalității.Conține o mulțime de algoritmi de preprocesare pentru date, algoritmi de învățare automată și metode de validare a modelului.\n",
        "\n",
        "\n",
        "\n",
        "\n",
        "\n",
        "\n"
      ],
      "metadata": {
        "id": "JTgTN7uENoaT"
      }
    },
    {
      "cell_type": "code",
      "source": [
        "import pandas as pd\n",
        "from sklearn.model_selection import train_test_split\n",
        "from sklearn.neighbors import KNeighborsClassifier\n",
        "from sklearn.metrics import accuracy_score, classification_report\n",
        "from sklearn.preprocessing import StandardScaler, OneHotEncoder\n",
        "from sklearn.compose import ColumnTransformer"
      ],
      "metadata": {
        "id": "ZxEH2IP0s-4W"
      },
      "execution_count": null,
      "outputs": []
    },
    {
      "cell_type": "markdown",
      "source": [
        "### **Set de date:**\n",
        "\n",
        "Setul de date **diabetes_prediction_dataset.csv** include informații despre diferiți indivizi, cu variabile precum:\n",
        "* **gender** - Această variabilă reprezintă sexul individului.\n",
        "* **age** - Vârsta individului.\n",
        "* **hypertension** - Indică dacă individul suferă de hipertensiune arterială.\n",
        "* **heart_disease** - Prezența sau absența bolilor de inimă.\n",
        "* **smoking_history** - Istoricul de fumat al individului.\n",
        "* **BMI** - O măsură care evaluează greutatea în raport cu înălțimea. Un BMI ridicat este adesea asociat cu un risc crescut de diabet de tip 2.\n",
        "* **HbA1c_level** - Nivelul de hemoglobină glicată (HbA1c) în sânge.\n",
        "* **blood_glucose_level** - Nivelul glicemiei sau zahărului din sânge.\n",
        "\n",
        "Variabila ***diabetes*** este variabila dependentă este variabila dependentă, indicând dacă individul are diabet.\n",
        "\n",
        "\n",
        "\n",
        "\n"
      ],
      "metadata": {
        "id": "ElrNaBcWt7Ew"
      }
    },
    {
      "cell_type": "markdown",
      "source": [
        "### **Algoritm:**\n",
        "\n",
        "\n",
        "1.   Importarea setului de date - În această etapă, se încarcă setul de date dintr-un fișier CSV într-un DataFrame pandas pentru a putea fi prelucrat. .\n"
      ],
      "metadata": {
        "id": "reqHT7mdvDoD"
      }
    },
    {
      "cell_type": "code",
      "source": [
        "from google.colab import files\n",
        "\n",
        "\n",
        "uploaded = files.upload()"
      ],
      "metadata": {
        "colab": {
          "base_uri": "https://localhost:8080/",
          "height": 73
        },
        "id": "WwkXOw0WC7J4",
        "outputId": "09b02b2e-4317-4af9-f6ab-65c605b82c00"
      },
      "execution_count": null,
      "outputs": [
        {
          "output_type": "display_data",
          "data": {
            "text/plain": [
              "<IPython.core.display.HTML object>"
            ],
            "text/html": [
              "\n",
              "     <input type=\"file\" id=\"files-d76f295d-68bc-40ac-bdb5-7faa6fc1a054\" name=\"files[]\" multiple disabled\n",
              "        style=\"border:none\" />\n",
              "     <output id=\"result-d76f295d-68bc-40ac-bdb5-7faa6fc1a054\">\n",
              "      Upload widget is only available when the cell has been executed in the\n",
              "      current browser session. Please rerun this cell to enable.\n",
              "      </output>\n",
              "      <script>// Copyright 2017 Google LLC\n",
              "//\n",
              "// Licensed under the Apache License, Version 2.0 (the \"License\");\n",
              "// you may not use this file except in compliance with the License.\n",
              "// You may obtain a copy of the License at\n",
              "//\n",
              "//      http://www.apache.org/licenses/LICENSE-2.0\n",
              "//\n",
              "// Unless required by applicable law or agreed to in writing, software\n",
              "// distributed under the License is distributed on an \"AS IS\" BASIS,\n",
              "// WITHOUT WARRANTIES OR CONDITIONS OF ANY KIND, either express or implied.\n",
              "// See the License for the specific language governing permissions and\n",
              "// limitations under the License.\n",
              "\n",
              "/**\n",
              " * @fileoverview Helpers for google.colab Python module.\n",
              " */\n",
              "(function(scope) {\n",
              "function span(text, styleAttributes = {}) {\n",
              "  const element = document.createElement('span');\n",
              "  element.textContent = text;\n",
              "  for (const key of Object.keys(styleAttributes)) {\n",
              "    element.style[key] = styleAttributes[key];\n",
              "  }\n",
              "  return element;\n",
              "}\n",
              "\n",
              "// Max number of bytes which will be uploaded at a time.\n",
              "const MAX_PAYLOAD_SIZE = 100 * 1024;\n",
              "\n",
              "function _uploadFiles(inputId, outputId) {\n",
              "  const steps = uploadFilesStep(inputId, outputId);\n",
              "  const outputElement = document.getElementById(outputId);\n",
              "  // Cache steps on the outputElement to make it available for the next call\n",
              "  // to uploadFilesContinue from Python.\n",
              "  outputElement.steps = steps;\n",
              "\n",
              "  return _uploadFilesContinue(outputId);\n",
              "}\n",
              "\n",
              "// This is roughly an async generator (not supported in the browser yet),\n",
              "// where there are multiple asynchronous steps and the Python side is going\n",
              "// to poll for completion of each step.\n",
              "// This uses a Promise to block the python side on completion of each step,\n",
              "// then passes the result of the previous step as the input to the next step.\n",
              "function _uploadFilesContinue(outputId) {\n",
              "  const outputElement = document.getElementById(outputId);\n",
              "  const steps = outputElement.steps;\n",
              "\n",
              "  const next = steps.next(outputElement.lastPromiseValue);\n",
              "  return Promise.resolve(next.value.promise).then((value) => {\n",
              "    // Cache the last promise value to make it available to the next\n",
              "    // step of the generator.\n",
              "    outputElement.lastPromiseValue = value;\n",
              "    return next.value.response;\n",
              "  });\n",
              "}\n",
              "\n",
              "/**\n",
              " * Generator function which is called between each async step of the upload\n",
              " * process.\n",
              " * @param {string} inputId Element ID of the input file picker element.\n",
              " * @param {string} outputId Element ID of the output display.\n",
              " * @return {!Iterable<!Object>} Iterable of next steps.\n",
              " */\n",
              "function* uploadFilesStep(inputId, outputId) {\n",
              "  const inputElement = document.getElementById(inputId);\n",
              "  inputElement.disabled = false;\n",
              "\n",
              "  const outputElement = document.getElementById(outputId);\n",
              "  outputElement.innerHTML = '';\n",
              "\n",
              "  const pickedPromise = new Promise((resolve) => {\n",
              "    inputElement.addEventListener('change', (e) => {\n",
              "      resolve(e.target.files);\n",
              "    });\n",
              "  });\n",
              "\n",
              "  const cancel = document.createElement('button');\n",
              "  inputElement.parentElement.appendChild(cancel);\n",
              "  cancel.textContent = 'Cancel upload';\n",
              "  const cancelPromise = new Promise((resolve) => {\n",
              "    cancel.onclick = () => {\n",
              "      resolve(null);\n",
              "    };\n",
              "  });\n",
              "\n",
              "  // Wait for the user to pick the files.\n",
              "  const files = yield {\n",
              "    promise: Promise.race([pickedPromise, cancelPromise]),\n",
              "    response: {\n",
              "      action: 'starting',\n",
              "    }\n",
              "  };\n",
              "\n",
              "  cancel.remove();\n",
              "\n",
              "  // Disable the input element since further picks are not allowed.\n",
              "  inputElement.disabled = true;\n",
              "\n",
              "  if (!files) {\n",
              "    return {\n",
              "      response: {\n",
              "        action: 'complete',\n",
              "      }\n",
              "    };\n",
              "  }\n",
              "\n",
              "  for (const file of files) {\n",
              "    const li = document.createElement('li');\n",
              "    li.append(span(file.name, {fontWeight: 'bold'}));\n",
              "    li.append(span(\n",
              "        `(${file.type || 'n/a'}) - ${file.size} bytes, ` +\n",
              "        `last modified: ${\n",
              "            file.lastModifiedDate ? file.lastModifiedDate.toLocaleDateString() :\n",
              "                                    'n/a'} - `));\n",
              "    const percent = span('0% done');\n",
              "    li.appendChild(percent);\n",
              "\n",
              "    outputElement.appendChild(li);\n",
              "\n",
              "    const fileDataPromise = new Promise((resolve) => {\n",
              "      const reader = new FileReader();\n",
              "      reader.onload = (e) => {\n",
              "        resolve(e.target.result);\n",
              "      };\n",
              "      reader.readAsArrayBuffer(file);\n",
              "    });\n",
              "    // Wait for the data to be ready.\n",
              "    let fileData = yield {\n",
              "      promise: fileDataPromise,\n",
              "      response: {\n",
              "        action: 'continue',\n",
              "      }\n",
              "    };\n",
              "\n",
              "    // Use a chunked sending to avoid message size limits. See b/62115660.\n",
              "    let position = 0;\n",
              "    do {\n",
              "      const length = Math.min(fileData.byteLength - position, MAX_PAYLOAD_SIZE);\n",
              "      const chunk = new Uint8Array(fileData, position, length);\n",
              "      position += length;\n",
              "\n",
              "      const base64 = btoa(String.fromCharCode.apply(null, chunk));\n",
              "      yield {\n",
              "        response: {\n",
              "          action: 'append',\n",
              "          file: file.name,\n",
              "          data: base64,\n",
              "        },\n",
              "      };\n",
              "\n",
              "      let percentDone = fileData.byteLength === 0 ?\n",
              "          100 :\n",
              "          Math.round((position / fileData.byteLength) * 100);\n",
              "      percent.textContent = `${percentDone}% done`;\n",
              "\n",
              "    } while (position < fileData.byteLength);\n",
              "  }\n",
              "\n",
              "  // All done.\n",
              "  yield {\n",
              "    response: {\n",
              "      action: 'complete',\n",
              "    }\n",
              "  };\n",
              "}\n",
              "\n",
              "scope.google = scope.google || {};\n",
              "scope.google.colab = scope.google.colab || {};\n",
              "scope.google.colab._files = {\n",
              "  _uploadFiles,\n",
              "  _uploadFilesContinue,\n",
              "};\n",
              "})(self);\n",
              "</script> "
            ]
          },
          "metadata": {}
        },
        {
          "output_type": "stream",
          "name": "stdout",
          "text": [
            "Saving diabetes_prediction_dataset.csv to diabetes_prediction_dataset.csv\n"
          ]
        }
      ]
    },
    {
      "cell_type": "code",
      "source": [
        "import pandas as pd\n",
        "import io\n",
        "\n",
        "df = pd.read_csv(io.BytesIO(uploaded['diabetes_prediction_dataset.csv']))\n",
        "print(df)"
      ],
      "metadata": {
        "colab": {
          "base_uri": "https://localhost:8080/"
        },
        "id": "6ex697QPZIsL",
        "outputId": "50a9c56f-08fa-46e4-a5bd-e5ab3526ca65"
      },
      "execution_count": null,
      "outputs": [
        {
          "output_type": "stream",
          "name": "stdout",
          "text": [
            "       gender   age  hypertension  heart_disease smoking_history    bmi  \\\n",
            "0      Female  80.0             0              1           never  25.19   \n",
            "1      Female  54.0             0              0         No Info  27.32   \n",
            "2        Male  28.0             0              0           never  27.32   \n",
            "3      Female  36.0             0              0         current  23.45   \n",
            "4        Male  76.0             1              1         current  20.14   \n",
            "...       ...   ...           ...            ...             ...    ...   \n",
            "99995  Female  80.0             0              0         No Info  27.32   \n",
            "99996  Female   2.0             0              0         No Info  17.37   \n",
            "99997    Male  66.0             0              0          former  27.83   \n",
            "99998  Female  24.0             0              0           never  35.42   \n",
            "99999  Female  57.0             0              0         current  22.43   \n",
            "\n",
            "       HbA1c_level  blood_glucose_level  diabetes  \n",
            "0              6.6                  140         0  \n",
            "1              6.6                   80         0  \n",
            "2              5.7                  158         0  \n",
            "3              5.0                  155         0  \n",
            "4              4.8                  155         0  \n",
            "...            ...                  ...       ...  \n",
            "99995          6.2                   90         0  \n",
            "99996          6.5                  100         0  \n",
            "99997          5.7                  155         0  \n",
            "99998          4.0                  100         0  \n",
            "99999          6.6                   90         0  \n",
            "\n",
            "[100000 rows x 9 columns]\n"
          ]
        }
      ]
    },
    {
      "cell_type": "markdown",
      "source": [
        "2. Prelucrarea datelor - În pasul de prelucrare a datelor, se efectuează o transformare specifică a setului de date pentru a-l pregăti pentru modelul de regresie liniară, trebuie să convertim aceste caracteristici categorice într-un format numeric, proces cunoscut sub numele **one-hot encoding**, fiind o tehnică de preprocesare care transformă fiecare valoare unică dintr-o coloană categorică într-o coloană binară nouă."
      ],
      "metadata": {
        "id": "CR_9BPiIIrWz"
      }
    },
    {
      "cell_type": "code",
      "source": [
        "categorical_features = ['gender', 'smoking_history']\n",
        "one_hot_encoder = OneHotEncoder()\n",
        "\n",
        "\n",
        "numerical_features = X.drop(columns=categorical_features).columns\n",
        "scaler = StandardScaler()\n",
        "\n",
        "\n",
        "preprocessor = ColumnTransformer(\n",
        "    transformers=[\n",
        "        ('cat', one_hot_encoder, categorical_features),\n",
        "        ('num', scaler, numerical_features)\n",
        "    ]\n",
        ")\n",
        "\n",
        "\n",
        "X_processed = preprocessor.fit_transform(X)\n"
      ],
      "metadata": {
        "id": "6r1OCO-8Irz_"
      },
      "execution_count": null,
      "outputs": []
    },
    {
      "cell_type": "markdown",
      "source": [
        "3. Pregătirea seturilor de date pentru antrenare și testare - Aceste linii de cod separă caracteristicile (X) și variabila țintă (y), apoi împart datele în seturi de antrenare și testare.\n",
        "\n",
        "\n"
      ],
      "metadata": {
        "id": "AHmErr4ovUQ2"
      }
    },
    {
      "cell_type": "code",
      "source": [
        "X = df.drop('diabetes', axis=1)\n",
        "y = df['diabetes']\n",
        "\n",
        "\n",
        "X_train, X_test, y_train, y_test = train_test_split(X, y, test_size=0.2, random_state=42)"
      ],
      "metadata": {
        "id": "DoMVzhqrvX8x"
      },
      "execution_count": null,
      "outputs": []
    },
    {
      "cell_type": "markdown",
      "source": [
        "4. Antrenarea modelului - Aici se antrenează modelul Nearest Neighbour pe setul de antrenare."
      ],
      "metadata": {
        "id": "Lgk44alNgTGF"
      }
    },
    {
      "cell_type": "code",
      "source": [
        "knn = KNeighborsClassifier(n_neighbors=100)\n",
        "knn.fit(X_train, y_train)"
      ],
      "metadata": {
        "id": "AbbAkxbUgawX"
      },
      "execution_count": null,
      "outputs": []
    },
    {
      "cell_type": "markdown",
      "source": [
        "5. . Predicțiile și evaluarea modelului - După antrenare, modelul face predicții pe setul de test. Apoi, se calculează și se afișează acuratețea, precum și raportul de clasificare."
      ],
      "metadata": {
        "id": "Zh-16BquvdSd"
      }
    },
    {
      "cell_type": "code",
      "source": [
        "y_pred = knn.predict(X_test)\n",
        "\n",
        "\n",
        "accuracy = accuracy_score(y_test, y_pred)\n",
        "print(f'Acuratețea modelului: {accuracy}')\n",
        "\n",
        "\n",
        "report = classification_report(y_test, y_pred)\n",
        "print(report)"
      ],
      "metadata": {
        "id": "uev4oqM9vgKI"
      },
      "execution_count": null,
      "outputs": []
    },
    {
      "cell_type": "markdown",
      "source": [
        "6. Vizualizarea rezultatelor - În final, se creează un tabel pentru a vizualiza comparația între datele reale și cele prezise de model."
      ],
      "metadata": {
        "id": "iYBepySOf2dg"
      }
    },
    {
      "cell_type": "code",
      "source": [
        "test_results = pd.DataFrame({'Real Data': y_test, 'Predicted Data': y_pred})\n",
        "print(test_results.head(31))"
      ],
      "metadata": {
        "id": "IMzaBTHjf3ts"
      },
      "execution_count": null,
      "outputs": []
    },
    {
      "cell_type": "markdown",
      "source": [
        "### **Împărțirea Datelor:**\n",
        "Vom împărți setul de date în 80% pentru antrenare și 20% pentru testare."
      ],
      "metadata": {
        "id": "Jk4sGLumuo7D"
      }
    },
    {
      "cell_type": "markdown",
      "source": [
        "\n",
        "### **Analiză**"
      ],
      "metadata": {
        "id": "nuk-4TPtDmwe"
      }
    },
    {
      "cell_type": "code",
      "source": [
        "import pandas as pd\n",
        "from sklearn.model_selection import train_test_split\n",
        "from sklearn.neighbors import KNeighborsClassifier\n",
        "from sklearn.metrics import accuracy_score, classification_report\n",
        "from sklearn.preprocessing import StandardScaler, OneHotEncoder\n",
        "from sklearn.compose import ColumnTransformer\n",
        "\n",
        "\n",
        "df = pd.read_csv('diabetes_prediction_dataset.csv')\n",
        "\n",
        "\n",
        "X = df.drop('diabetes', axis=1)\n",
        "y = df['diabetes']\n",
        "\n",
        "\n",
        "categorical_features = ['gender', 'smoking_history']\n",
        "one_hot_encoder = OneHotEncoder()\n",
        "\n",
        "\n",
        "numerical_features = X.drop(columns=categorical_features).columns\n",
        "scaler = StandardScaler()\n",
        "\n",
        "\n",
        "preprocessor = ColumnTransformer(\n",
        "    transformers=[\n",
        "        ('cat', one_hot_encoder, categorical_features),\n",
        "        ('num', scaler, numerical_features)\n",
        "    ]\n",
        ")\n",
        "\n",
        "\n",
        "X_processed = preprocessor.fit_transform(X)\n",
        "\n",
        "\n",
        "X_train, X_test, y_train, y_test = train_test_split(X_processed, y, test_size=0.2, random_state=42)\n",
        "\n",
        "\n",
        "knn = KNeighborsClassifier(n_neighbors=100)\n",
        "knn.fit(X_train, y_train)\n",
        "\n",
        "\n",
        "y_pred = knn.predict(X_test)\n",
        "\n",
        "\n",
        "accuracy = accuracy_score(y_test, y_pred)\n",
        "print(f'Acuratețea modelului: {accuracy}')\n",
        "\n",
        "\n",
        "report = classification_report(y_test, y_pred)\n",
        "print(report)\n",
        "\n",
        "\n",
        "test_results = pd.DataFrame({'Real Data': y_test, 'Predicted Data': y_pred})\n",
        "print(test_results.head(31))\n"
      ],
      "metadata": {
        "id": "NumLy8O3votJ",
        "colab": {
          "base_uri": "https://localhost:8080/"
        },
        "outputId": "96b9fc79-3000-4c34-9f0d-bcfe3851da96"
      },
      "execution_count": null,
      "outputs": [
        {
          "output_type": "stream",
          "name": "stdout",
          "text": [
            "Acuratețea modelului: 0.95605\n",
            "              precision    recall  f1-score   support\n",
            "\n",
            "           0       0.95      1.00      0.98     18292\n",
            "           1       0.99      0.49      0.66      1708\n",
            "\n",
            "    accuracy                           0.96     20000\n",
            "   macro avg       0.97      0.74      0.82     20000\n",
            "weighted avg       0.96      0.96      0.95     20000\n",
            "\n",
            "       Real Data  Predicted Data\n",
            "75721          0               0\n",
            "80184          0               0\n",
            "19864          0               0\n",
            "76699          0               0\n",
            "92991          1               0\n",
            "76434          0               0\n",
            "84004          0               0\n",
            "80917          0               0\n",
            "60767          0               0\n",
            "50074          0               0\n",
            "27701          0               0\n",
            "42141          0               0\n",
            "45080          0               0\n",
            "16638          0               0\n",
            "20424          0               0\n",
            "88702          1               0\n",
            "149            0               0\n",
            "1761           0               0\n",
            "63120          0               0\n",
            "69161          0               0\n",
            "64883          0               0\n",
            "2495           0               0\n",
            "80296          0               0\n",
            "19447          0               0\n",
            "41331          0               0\n",
            "14888          0               0\n",
            "88636          0               0\n",
            "94892          0               0\n",
            "92731          0               0\n",
            "29130          0               0\n",
            "79022          0               0\n"
          ]
        }
      ]
    },
    {
      "cell_type": "markdown",
      "source": [
        "\n",
        "\n",
        "### **Concluzii**\n",
        "\n",
        "**Acuratețea înaltă**: Modelul are o acuratețe generală de aproximativ 95%, ceea ce indică o performanță general bună în clasificarea corectă a cazurilor ca diabetice sau non-diabetice.\n",
        "\n",
        "***Clasificarea Clasei 0 (Non-diabetici)***:\n",
        "\n",
        "1. Precizie (Precision): O precizie de 95% pentru clasa 0 sugerează că 95% din predicțiile modelului pentru non-diabetici sunt corecte.\n",
        "2. Recall: Un recall de 100% indică faptul că modelul a identificat corect toate cazurile reale de non-diabetici din setul de testare.\n",
        "3. F1-Score: Scorul F1 de 98% pentru clasa 0 este foarte ridicat, reflectând un echilibru bun între precizie și recall.\n",
        "\n",
        "***Clasificarea Clasei 1 (Diabetici)***:\n",
        "1. Precizie: Precizia de 99% pentru clasa 1 este foarte bună, indicând că aproape toate predicțiile modelului de diabetici sunt corecte.\n",
        "2. Recall: Cu toate acestea, recall-ul de doar 49% pentru clasa 1 sugerează că modelul a ratat mai mult de jumătate dintre cazurile reale de diabetici din setul de testare.\n",
        "2. F1-Score: Scorul F1 de 66% pentru clasa 1 este semnificativ mai mic decât cel pentru clasa 0, din cauza recall-ului scăzut."
      ],
      "metadata": {
        "id": "hLRWqU_mDXKk"
      }
    }
  ]
}